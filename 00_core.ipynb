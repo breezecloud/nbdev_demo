{
 "cells": [
  {
   "cell_type": "code",
   "execution_count": null,
   "metadata": {},
   "outputs": [],
   "source": [
    "# default_exp core"
   ]
  },
  {
   "cell_type": "markdown",
   "metadata": {},
   "source": [
    "# module name here\n",
    "\n",
    "> API details."
   ]
  },
  {
   "cell_type": "code",
   "execution_count": null,
   "metadata": {},
   "outputs": [],
   "source": [
    "#hide\n",
    "from nbdev.showdoc import *"
   ]
  },
  {
   "cell_type": "code",
   "execution_count": null,
   "metadata": {},
   "outputs": [
    {
     "name": "stdout",
     "output_type": "stream",
     "text": [
      "os\n"
     ]
    }
   ],
   "source": [
    "#export\n",
    "import os\n",
    "print('os')"
   ]
  },
  {
   "cell_type": "raw",
   "metadata": {},
   "source": [
    "markdown text"
   ]
  },
  {
   "cell_type": "code",
   "execution_count": null,
   "metadata": {},
   "outputs": [
    {
     "name": "stdout",
     "output_type": "stream",
     "text": [
      "Converted 00_core.ipynb.\n",
      "Converted index.ipynb.\n"
     ]
    }
   ],
   "source": [
    "from nbdev.export import *\n",
    "notebook2script()"
   ]
  },
  {
   "cell_type": "code",
   "execution_count": null,
   "metadata": {},
   "outputs": [
    {
     "name": "stdout",
     "output_type": "stream",
     "text": [
      "{'type': 'DIR', 'path': 'd:\\\\', 'name': 'data', 'size': 12288}\n",
      "{'type': 'NOTKNOW', 'path': 'c:\\\\', 'name': 'hiberfil.sys', 'size': 6254411776}\n",
      "{'type': 'MD', 'path': 'd:\\\\data\\\\simiki\\\\simiki\\\\conf_templates\\\\', 'name': 'gettingstarted.md', 'size': 2556}\n"
     ]
    }
   ],
   "source": [
    "#export\n",
    "#file.py\n",
    "\"\"\"\n",
    "file class define\n",
    "\"\"\"\n",
    "\n",
    "import os,io\n",
    "\n",
    "FILETYPE=('DIR','TXT','MD','NOTKNOW')\n",
    "\n",
    "class File(object):\n",
    "\t\"\"\"file base class\"\"\"\n",
    "\tdef __init__(self, abs_path,filename):\n",
    "\t\t'''\n",
    "\t\t'''\n",
    "\t\tself.path = abs_path\n",
    "\t\tself.filename = filename\n",
    "\t\tself.type = 'NOTKNOW'\n",
    "\t\tself.path_filename = os.path.join(self.path,self.filename)\n",
    "\t\ttry:\n",
    "\t\t\tself.stat = os.stat(self.path_filename)\n",
    "\t\texcept Exception as e:\n",
    "\t\t\traise Exception(\"error {0}: {1}\".format(filename, e))\n",
    "\n",
    "\t\t#is directory?\n",
    "\t\tif os.path.isdir(self.path_filename):\n",
    "\t\t\tself.type='DIR'\n",
    "\t\t\n",
    "\t\t_,ext = os.path.splitext(self.filename)\n",
    "\t\tif ext == '.txt' or ext == '.TXT':\n",
    "\t\t\tself.type = 'TXT'\n",
    "\t\telif ext == '.md' or ext == '.MD':\n",
    "\t\t\tif self.ismdfile(self.path_filename):\n",
    "\t\t\t\tself.type = 'MD'\n",
    "\n",
    "\t@property\n",
    "\tdef meta(self):\n",
    "\t\treturn {\n",
    "\t\t\t'type':self.type,\n",
    "\t\t\t'path':self.path,\n",
    "\t\t\t'name':self.filename,\n",
    "\t\t\t'size':self.stat.st_size,\n",
    "    \t}\n",
    "\n",
    "\tdef ismdfile(self,src_file_path):\n",
    "\t\tmeta_notation = \"---\"\n",
    "\t\twith io.open(src_file_path, \"rt\", encoding=\"utf-8\") as fd:\n",
    "\t\t\ttextlist = fd.read().lstrip().splitlines()\n",
    "\t\t\tif textlist[0] != meta_notation:\n",
    "\t\t\t\treturn False\n",
    "\t\t\ttextlist = textlist[1:]\n",
    "\t\ttry:\n",
    "\t\t\ttextlist.index(meta_notation)\n",
    "\t\texcept:\n",
    "\t\t\treturn False\n",
    "\n",
    "\t\treturn True\n",
    "        \t\n",
    "if __name__ == '__main__':\n",
    "\tf = File(\"d:\\\\\",\"data\")\n",
    "\tprint(f.meta)\t\n",
    "\tf = File(\"c:\\\\\",\"hiberfil.sys\")\n",
    "\tprint(f.meta)\n",
    "\tf = File(\"d:\\\\data\\\\simiki\\\\simiki\\\\conf_templates\\\\\",\"gettingstarted.md\")\n",
    "\tprint(f.meta)\n"
   ]
  },
  {
   "cell_type": "code",
   "execution_count": null,
   "metadata": {},
   "outputs": [
    {
     "name": "stdout",
     "output_type": "stream",
     "text": [
      "Converted 00_core.ipynb.\n",
      "Converted index.ipynb.\n"
     ]
    }
   ],
   "source": [
    "from nbdev.export import *\n",
    "notebook2script()"
   ]
  },
  {
   "cell_type": "code",
   "execution_count": null,
   "metadata": {},
   "outputs": [],
   "source": [
    "# "
   ]
  }
 ],
 "metadata": {
  "kernelspec": {
   "display_name": "Python 3",
   "language": "python",
   "name": "python3"
  }
 },
 "nbformat": 4,
 "nbformat_minor": 2
}
